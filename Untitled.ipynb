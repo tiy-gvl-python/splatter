{
 "cells": [
  {
   "cell_type": "code",
   "execution_count": null,
   "metadata": {
    "collapsed": true
   },
   "outputs": [],
   "source": [
    "# Movie, Rating\n",
    "from statistics import mean\n",
    "\n",
    "def top_twenty(request):\n",
    "    context = {}\n",
    "    rating_dict = {}\n",
    "    all_movies = Movie.objects.all()\n",
    "    for movie_obj in all_moviews:\n",
    "        rating_dict[movie_obj.title] = mean([rating.score for rating in Rating.objects.filter(movie=movie_obj)])\n",
    "        # math on ratings to get mean\n",
    "    context['top_twenty_list'] = rating_dict\n",
    "    return render_to_response('template.html', context)"
   ]
  },
  {
   "cell_type": "markdown",
   "metadata": {},
   "source": [
    "template.html\n",
    "```\n",
    "{% for movie, score in top_twenty_list.items %}\n",
    "  <div>{{ movie }} - {{ score }}</div>\n",
    "{% endfor %}\n",
    "```"
   ]
  },
  {
   "cell_type": "code",
   "execution_count": null,
   "metadata": {
    "collapsed": true
   },
   "outputs": [],
   "source": []
  }
 ],
 "metadata": {
  "kernelspec": {
   "display_name": "Python 3",
   "language": "python",
   "name": "python3"
  },
  "language_info": {
   "codemirror_mode": {
    "name": "ipython",
    "version": 3
   },
   "file_extension": ".py",
   "mimetype": "text/x-python",
   "name": "python",
   "nbconvert_exporter": "python",
   "pygments_lexer": "ipython3",
   "version": "3.4.3"
  }
 },
 "nbformat": 4,
 "nbformat_minor": 0
}
